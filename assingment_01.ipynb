{
 "cells": [
  {
   "cell_type": "markdown",
   "id": "9649dcfb-dade-4382-ac5b-dcc03ed762b2",
   "metadata": {},
   "source": [
    "# Part -1 Python Basics (Variables)"
   ]
  },
  {
   "cell_type": "markdown",
   "id": "5c28ca46-c989-48d0-bdd5-d93081f70576",
   "metadata": {},
   "source": [
    "##### Q:01 Print Your Name with your Father name and Date of birth using suitable escape sequence char\n",
    "\n"
   ]
  },
  {
   "cell_type": "code",
   "execution_count": null,
   "id": "6dd127bb-7449-40dd-9bb8-5c134c37d6dd",
   "metadata": {},
   "outputs": [],
   "source": [
    "name=\"Raveendar Singh\"\n",
    "fname=\"Chandan Singh\"\n",
    "date_of_birth = 5062003\n",
    "print(\"My name is \"+name+\"\\n My father name is \"+fname,\"\\n and My Date of Birth is:\",date_of_birth)"
   ]
  },
  {
   "cell_type": "markdown",
   "id": "47ec3b11-a584-4363-8f3a-92583d04babe",
   "metadata": {},
   "source": [
    "##### Q:02 Write your small bio using variables and print it using print function:"
   ]
  },
  {
   "cell_type": "code",
   "execution_count": 45,
   "id": "7e3ebb3f-d885-4d65-9895-8f638cfbe9c9",
   "metadata": {},
   "outputs": [
    {
     "name": "stdout",
     "output_type": "stream",
     "text": [
      "My name is  Raveendar Singh\n",
      "I Study in  PAF-KIET\n",
      "Enrolled in program of  BS-AI\n",
      "My age is:  20\n"
     ]
    }
   ],
   "source": [
    "name= \"Raveendar Singh\"\n",
    "University =\"PAF-KIET\"\n",
    "Program =\"BS-AI\"\n",
    "age= 20\n",
    "print(\"My name is \",name)\n",
    "print(\"I Study in \",University)\n",
    "print(\"Enrolled in program of \",Program)\n",
    "print(\"My age is: \",age)\n",
    "\n"
   ]
  },
  {
   "cell_type": "markdown",
   "id": "1f78b8da-f177-43e1-a763-d89c1a53596f",
   "metadata": {},
   "source": [
    "##### Q:03 Write a program in which use all the operators we can use in Python"
   ]
  },
  {
   "cell_type": "code",
   "execution_count": 50,
   "id": "10ec3cfc-e48e-4187-9ab5-17e056c0b18f",
   "metadata": {},
   "outputs": [
    {
     "name": "stdout",
     "output_type": "stream",
     "text": [
      "Arithmetic Operators:\n",
      "a + b = 13\n",
      "a - b = 7\n",
      "a * b = 30\n",
      "a / b = 3.3333333333333335\n",
      "a % b = 1\n",
      "a ** b = 1000\n",
      "a // b = 3\n",
      "\n",
      "Comparison Operators:\n",
      "a == b: False\n",
      "a != b: True\n",
      "a > b: True\n",
      "a < b: False\n",
      "a >= b: True\n",
      "a <= b: False\n",
      "\n",
      "Logical Operators:\n",
      "c and d: False\n",
      "c or d: True\n",
      "not c: False\n",
      "\n",
      "Assignment Operators:\n",
      "g += 3: 10\n",
      "g -= 2: 8\n",
      "g *= 2: 16\n",
      "g /= 3: 5.333333333333333\n",
      "g %= 2: 1.333333333333333\n",
      "g **= 3: 2.370370370370369\n",
      "g //= 2: 1.0\n"
     ]
    }
   ],
   "source": [
    "# We are discussing here four types of basic varialbs , others also exists but here are important only....\n",
    "# 01 Arithmetic Operators\n",
    "a = 10\n",
    "b = 3\n",
    "print(\"Arithmetic Operators:\")\n",
    "print(f\"a + b = {a + b}\")\n",
    "print(f\"a - b = {a - b}\")  \n",
    "print(f\"a * b = {a * b}\")  \n",
    "print(f\"a / b = {a / b}\")\n",
    "print(f\"a % b = {a % b}\")  \n",
    "print(f\"a ** b = {a ** b}\")  \n",
    "print(f\"a // b = {a // b}\")  \n",
    "\n",
    "#02 Comparison Operators\n",
    "print(\"\\nComparison Operators:\")\n",
    "print(f\"a == b: {a == b}\")  \n",
    "print(f\"a != b: {a != b}\")  \n",
    "print(f\"a > b: {a > b}\")  \n",
    "print(f\"a < b: {a < b}\")  \n",
    "print(f\"a >= b: {a >= b}\")  \n",
    "print(f\"a <= b: {a <= b}\")  \n",
    "\n",
    "# 03 Logical Operators\n",
    "c = True\n",
    "d = False\n",
    "print(\"\\nLogical Operators:\")\n",
    "print(f\"c and d: {c and d}\")  \n",
    "print(f\"c or d: {c or d}\")  \n",
    "print(f\"not c: {not c}\")  \n",
    "\n",
    "\n",
    "\n",
    "#04 Assignment Operators\n",
    "g = 7\n",
    "print(\"\\nAssignment Operators:\")\n",
    "g += 3  \n",
    "print(f\"g += 3: {g}\")\n",
    "g -= 2\n",
    "print(f\"g -= 2: {g}\")\n",
    "g *= 2  \n",
    "print(f\"g *= 2: {g}\")\n",
    "g /= 3  \n",
    "print(f\"g /= 3: {g}\")\n",
    "g %= 2  \n",
    "print(f\"g %= 2: {g}\")\n",
    "g **= 3  \n",
    "print(f\"g **= 3: {g}\")\n",
    "g //= 2  \n",
    "print(f\"g //= 2: {g}\")\n",
    "\n",
    "# we write here basic operators only not all..........\n"
   ]
  },
  {
   "cell_type": "markdown",
   "id": "0c94151d-740a-4187-b31e-61bd8dd36a40",
   "metadata": {},
   "source": [
    "##### Q:04  Completes the following steps of small task:\n",
    "Mention Marks of English , Islamiat and Maths out of 100 in 3 different variables\n",
    "Mention Variable of Total Marks and assign 300 to it\n",
    "Calculate Percentage"
   ]
  },
  {
   "cell_type": "code",
   "execution_count": 1,
   "id": "61dcadc9-991a-4c41-9245-e4a8e324ec7d",
   "metadata": {},
   "outputs": [
    {
     "name": "stdout",
     "output_type": "stream",
     "text": [
      "Total percentage generated is: 81.33333333333333\n"
     ]
    }
   ],
   "source": [
    "marks_in_English = 61\n",
    "marks_in_Islamiat = 87\n",
    "marks_in_Maths = 96\n",
    "total_Marks = 300\n",
    "total_Obtained_marks = marks_in_English+marks_in_Islamiat+marks_in_Maths\n",
    "percentage= total_Obtained_marks/total_Marks*(100)\n",
    "print(f\"Total percentage generated is:\",percentage)\n"
   ]
  },
  {
   "cell_type": "markdown",
   "id": "9fe6c5e5-ee0d-4c3e-af23-af06513b2b15",
   "metadata": {},
   "source": [
    "# Part -2 Python Basics (Conditional Statements)"
   ]
  },
  {
   "cell_type": "markdown",
   "id": "0437cb0c-8912-4404-bd68-2562b50eaffc",
   "metadata": {},
   "source": [
    "##### Q:01 A company decided to give bonus of 5% to employee if his/her year of service is more than 5 years.Ask user for their salary and year of service and print the net bonus amount.\n",
    "."
   ]
  },
  {
   "cell_type": "code",
   "execution_count": 5,
   "id": "7f017da5-38a3-4d2b-855c-73f4bdaaa679",
   "metadata": {},
   "outputs": [
    {
     "name": "stdout",
     "output_type": "stream",
     "text": [
      "Enter Your servise 40\n",
      "Enter Your Salary 120000\n"
     ]
    },
    {
     "name": "stdout",
     "output_type": "stream",
     "text": [
      "Your total salary produced is: 126000.0\n"
     ]
    }
   ],
   "source": [
    "Year_of_servise =int(input(\"Enter Your servise\"))\n",
    "first_salary = int(input(\"Enter Your Salary\"))\n",
    "if(Year_of_servise>5):\n",
    "    net_bonus = first_salary/100*(5)\n",
    "    Net_salary= first_salary+net_bonus\n",
    "    print(\"Your total salary produced is:\",Net_salary)\n",
    "else:\n",
    "    print(\"Your salary remain same\",first_salary)\n",
    "    \n"
   ]
  },
  {
   "cell_type": "markdown",
   "id": "d16a40de-5f39-4f91-887c-8c8e9c78609d",
   "metadata": {},
   "source": [
    "##### Q:02  Write a program to check whether a person is eligible for voting or not. (accept age from user) if age is greater than 17 eligible otherwise not eligible"
   ]
  },
  {
   "cell_type": "code",
   "execution_count": 7,
   "id": "9b5b08c8-a644-4757-a4b9-60e242dd442c",
   "metadata": {},
   "outputs": [
    {
     "name": "stdout",
     "output_type": "stream",
     "text": [
      "Enter your age to check eligblity: 27\n"
     ]
    },
    {
     "name": "stdout",
     "output_type": "stream",
     "text": [
      "Eligible to cast vote\n"
     ]
    }
   ],
   "source": [
    " age =int(input(\"Enter your age to check eligblity:\"))\n",
    "if (age>17):\n",
    "    print(\"Eligible to cast vote\")\n",
    "else:\n",
    "    print(\"Not eligible for Vote\")"
   ]
  },
  {
   "cell_type": "markdown",
   "id": "5fdc3124-65ed-4e5a-93c2-e1d76b0fff2c",
   "metadata": {},
   "source": [
    "##### Q:03  Write a program to check whether a number entered by user is even or odd"
   ]
  },
  {
   "cell_type": "code",
   "execution_count": 17,
   "id": "71e91af7-904d-4e25-9509-39f68be5352f",
   "metadata": {},
   "outputs": [
    {
     "name": "stdout",
     "output_type": "stream",
     "text": [
      "Enter number to check either its odd or even 45\n"
     ]
    },
    {
     "name": "stdout",
     "output_type": "stream",
     "text": [
      " Entered number is an odd number.\n"
     ]
    }
   ],
   "source": [
    "number =int(input(\"Enter number to check either its odd or even:\"))\n",
    "if( number % 2 == 0):\n",
    "    print(\" Entered number is an even number.\")\n",
    "else:\n",
    "    print(\" Entered number is an odd number.\")\n",
    "    "
   ]
  },
  {
   "cell_type": "markdown",
   "id": "fb1d52a0-2d73-41cd-aeb9-9038aaedc717",
   "metadata": {},
   "source": [
    "##### Q:04 Write a program to check whether a number is divisible by 7 or not."
   ]
  },
  {
   "cell_type": "code",
   "execution_count": 22,
   "id": "20dab232-3456-4b1c-b193-a9afec28c1d1",
   "metadata": {},
   "outputs": [
    {
     "name": "stdout",
     "output_type": "stream",
     "text": [
      "Enter number to check divisiblity 51\n"
     ]
    },
    {
     "name": "stdout",
     "output_type": "stream",
     "text": [
      "not a factor of 7\n"
     ]
    }
   ],
   "source": [
    "number = int(input(\"Enter number to check divisiblity :\"))\n",
    "if(number % 7 == 0):\n",
    "    print(f\"{number} : is a factor of 7\")\n",
    "else:\n",
    "    print(\"not a factor of 7\")\n"
   ]
  },
  {
   "cell_type": "markdown",
   "id": "e226201d-1a4d-4b13-8301-01b32fc02a55",
   "metadata": {},
   "source": [
    "##### Q:05  Write a program to display \"Hello\" if a number entered by user is a multiple of five , otherwise print \"Bye\".\n",
    "."
   ]
  },
  {
   "cell_type": "code",
   "execution_count": 29,
   "id": "50558afc-daca-45e3-b76d-82d56115a154",
   "metadata": {},
   "outputs": [
    {
     "name": "stdout",
     "output_type": "stream",
     "text": [
      "Enter any number : 5\n"
     ]
    },
    {
     "name": "stdout",
     "output_type": "stream",
     "text": [
      "Hello\n"
     ]
    }
   ],
   "source": [
    "number = int(input(\"Enter any number :\"))\n",
    "if(number % 5 == 0):\n",
    "    print(\"Hello\")\n",
    "else:\n",
    "    print(\"Bye\")"
   ]
  },
  {
   "cell_type": "markdown",
   "id": "2bf27f4f-c819-4876-a56d-243697fabe11",
   "metadata": {},
   "source": [
    "##### Q:06 Write a program to calculate the electricity bill (accept number of unit from user) according to the following criteria :\n",
    "     Unit                                                     Price  \n",
    "uptp 100 units                                             no charge\n",
    "Next 200 units                                              Rs 5 per unit\n",
    "After 200 units                                             Rs 10 per unit\n",
    "(For example if input unit is 350 than total bill amount is Rs.3500\n",
    "(For example if input unit is 97 than total bill amount is Rs.0\n",
    "(For example if input unit is 150 than total bill amount is Rs.750"
   ]
  },
  {
   "cell_type": "code",
   "execution_count": 16,
   "id": "4f6171f3-312c-4446-b612-bac82a9d4210",
   "metadata": {},
   "outputs": [
    {
     "name": "stdout",
     "output_type": "stream",
     "text": [
      "Enter units used: 453\n"
     ]
    },
    {
     "name": "stdout",
     "output_type": "stream",
     "text": [
      "Total price generated is:4530\n"
     ]
    }
   ],
   "source": [
    "units=int(input(\"Enter units used:\"))\n",
    "if(units <= 100):\n",
    "    total_price = units*0\n",
    "    print(f\"Total price generated is:{total_price}\")\n",
    "elif(units <= 200):  \n",
    "    total_price = units*5\n",
    "    print(f\"Total price generated is:{total_price}\")\n",
    "elif(units > 200):  \n",
    "    total_price = units*10\n",
    "    print(f\"Total price generated is:{total_price}\")\n",
    "else:\n",
    "    print(\"Invalid input\")"
   ]
  },
  {
   "cell_type": "markdown",
   "id": "17512b87-c83f-48cf-9e19-0b5ea3a04c49",
   "metadata": {},
   "source": [
    "##### Q:07 Write a program to display the last digit of a number."
   ]
  },
  {
   "cell_type": "code",
   "execution_count": 2,
   "id": "bb0d2aa2-25c6-4fc4-9b60-40352490acee",
   "metadata": {},
   "outputs": [
    {
     "name": "stdout",
     "output_type": "stream",
     "text": [
      "Enter a number:  678\n"
     ]
    },
    {
     "name": "stdout",
     "output_type": "stream",
     "text": [
      "The last digit of the number is: 8\n"
     ]
    }
   ],
   "source": [
    "# Function to get the last digit of a number\n",
    "def get_last_digit(number):\n",
    "    # Use modulus operator to find the last digit\n",
    "    last_digit = abs(number) % 10\n",
    "    return last_digit\n",
    "\n",
    "# Input from the user\n",
    "number = int(input(\"Enter a number: \"))\n",
    "\n",
    "# Display the last digit\n",
    "print(\"The last digit of the number is:\", get_last_digit(number))\n",
    "\n"
   ]
  },
  {
   "cell_type": "markdown",
   "id": "d293f662-1814-49a6-acb4-489f9c94b316",
   "metadata": {},
   "source": [
    "##### Q:09 Take values of length and breadth of a rectangle from user and print if it is square or rectangle"
   ]
  },
  {
   "cell_type": "code",
   "execution_count": 4,
   "id": "c4f1a12a-579e-403e-aec2-6af155900aa8",
   "metadata": {},
   "outputs": [
    {
     "name": "stdout",
     "output_type": "stream",
     "text": [
      "Enter length 23\n",
      "Enter breadth 23\n"
     ]
    },
    {
     "name": "stdout",
     "output_type": "stream",
     "text": [
      "shape is square\n"
     ]
    }
   ],
   "source": [
    "length = int(input(\"Enter length\"))\n",
    "breadth = int(input(\"Enter breadth\"))\n",
    "if(length == breadth ):\n",
    "    print(\"shape is square\")\n",
    "else:\n",
    "    print(\"shape is rectangle\")\n",
    "\n"
   ]
  },
  {
   "cell_type": "markdown",
   "id": "f8ee4a3e-7fd2-4608-9d24-aeb7b53b891e",
   "metadata": {},
   "source": [
    "##### Q:10 Take two int values from user and print greatest among them.\n",
    "\n"
   ]
  },
  {
   "cell_type": "code",
   "execution_count": 6,
   "id": "e739f583-013a-4dee-8a41-e35cd1db7388",
   "metadata": {},
   "outputs": [
    {
     "name": "stdout",
     "output_type": "stream",
     "text": [
      "Enter value of num1 23\n",
      "Enter value of num2 234\n"
     ]
    },
    {
     "name": "stdout",
     "output_type": "stream",
     "text": [
      "Greatest value is : 234\n"
     ]
    }
   ],
   "source": [
    "num1=int(input(\"Enter value of num1\"))\n",
    "num2=int(input(\"Enter value of num2\"))\n",
    "if(num1>num2):\n",
    "    print(f\"greatest value is:{num1}\")\n",
    "else:\n",
    "    print(f\"Greatest value is : {num2}\")\n",
    "\n",
    "    "
   ]
  },
  {
   "cell_type": "code",
   "execution_count": null,
   "id": "2ccdcf02-6652-4bcb-8290-c9c7b97130fc",
   "metadata": {},
   "outputs": [],
   "source": []
  },
  {
   "cell_type": "markdown",
   "id": "3ce044c5-7830-4f3a-9301-8f6d9486ebcc",
   "metadata": {},
   "source": [
    "##### Q:11 A shop will give discount of 10% if the cost of purchased quantity is more than 1000.\n",
    "Ask user for quantity\n",
    "Suppose, one unit will cost 100.\n",
    "Judge and print total cost for user."
   ]
  },
  {
   "cell_type": "code",
   "execution_count": 2,
   "id": "36ac1a91-726c-41a4-b5a6-87d0909edc7b",
   "metadata": {},
   "outputs": [
    {
     "name": "stdout",
     "output_type": "stream",
     "text": [
      "Enter cost of one product:  3455\n",
      "Enter quantity of products:  34352\n"
     ]
    },
    {
     "name": "stdout",
     "output_type": "stream",
     "text": [
      "Discount applied is 10%\n",
      "Net payable cost is: 106817544.0\n"
     ]
    }
   ],
   "source": [
    "cost_of_product = int(input(\"Enter cost of one product: \"))\n",
    "quantity_of_product = int(input(\"Enter quantity of products: \"))\n",
    "\n",
    "if quantity_of_product > 1000:\n",
    "    total_cost = cost_of_product * quantity_of_product\n",
    "    discounted_price = total_cost * 0.9\n",
    "    print(f\"Discount applied is 10%\")\n",
    "    print(f\"Net payable cost is: {discounted_price}\")\n",
    "else:\n",
    "    total_cost = cost_of_product * quantity_of_product\n",
    "    print(f\"No discount, hence price is the same: {total_cost}\")\n"
   ]
  },
  {
   "cell_type": "markdown",
   "id": "15571764-e09a-4658-a3ab-376674645637",
   "metadata": {},
   "source": [
    "##### Q:12 A school has following rules for grading system:\n",
    "\n",
    "a. Below 25 - F\n",
    "\n",
    "b. 25 to 45 - E\n",
    "\n",
    "c. 45 to 50 - D\n",
    "\n",
    "d. 50 to 60 - C\n",
    "\n",
    "e. 60 to 80 - B\n",
    "\n",
    "f. Above 80 - A\n",
    "\n",
    "Ask user to enter marks and print the corresponding grade."
   ]
  },
  {
   "cell_type": "code",
   "execution_count": 5,
   "id": "d1dd3588-d31d-4675-be70-ee6be7d9d70c",
   "metadata": {},
   "outputs": [
    {
     "name": "stdout",
     "output_type": "stream",
     "text": [
      "Enter your marks for grade assingment 87\n"
     ]
    },
    {
     "name": "stdout",
     "output_type": "stream",
     "text": [
      "Your grade is A\n"
     ]
    }
   ],
   "source": [
    "marks = int(input(\"Enter your marks for grade assingment\"))\n",
    "if marks < 25:\n",
    "    print(\"Your grade is F\")\n",
    "elif marks >=25 and marks < 45:\n",
    "    print(\"Your grade is E\")\n",
    "elif marks >=45 and marks < 50:\n",
    "    print(\"Your grade is D\")\n",
    "elif marks >=50 and marks <60:\n",
    "    print(\"Your grade is C\")\n",
    "elif marks >=60 and marks < 80:\n",
    "    print(\"Your grade is B\")\n",
    "elif marks >= 80:\n",
    "\n",
    "    else:\n",
    "    print(\"Input error....!\")\n",
    "\n"
   ]
  },
  {
   "cell_type": "markdown",
   "id": "26656dab-1ff8-4b55-9652-9f5e53ad98c4",
   "metadata": {},
   "source": [
    "##### Q:12 Take input of age of 3 people by user and determine oldest and youngest among them"
   ]
  },
  {
   "cell_type": "code",
   "execution_count": 1,
   "id": "968d4ca5-f6e3-4376-8299-328b6b934a4c",
   "metadata": {},
   "outputs": [
    {
     "name": "stdout",
     "output_type": "stream",
     "text": [
      "Enter age of Ali 23\n",
      "Enter age of Ali 54\n",
      "Enter age of Ali 32\n"
     ]
    },
    {
     "name": "stdout",
     "output_type": "stream",
     "text": [
      "The oldest one is :54\n",
      "The youngest one is :23\n"
     ]
    }
   ],
   "source": [
    "ali = int(input(\"Enter age of Ali\"))\n",
    "aslam =int(input(\"Enter age of Ali\"))\n",
    "hamza =int(input(\"Enter age of Ali\"))\n",
    "\n",
    "# Determinig oldest one....\n",
    "if ali > aslam and ali >hamza:\n",
    "    oldest =ali\n",
    "elif aslam > ali and aslam >hamza:\n",
    "    oldest =aslam\n",
    "else:\n",
    "      oldest = hamza\n",
    "\n",
    "# Deteming youngest one.....!\n",
    "if ali < aslam and ali < hamza:\n",
    "    youngest =ali\n",
    "elif aslam < ali and aslam < hamza:\n",
    "    youngest =aslam\n",
    "else:\n",
    "      youngest = hamza\n",
    "\n",
    "print(f\"The oldest one is :{oldest}\")\n",
    "print(f\"The youngest one is :{youngest}\")\n",
    "\n",
    "\n"
   ]
  },
  {
   "cell_type": "markdown",
   "id": "326c0630-454c-4607-9fbd-b72f475967c3",
   "metadata": {},
   "source": [
    "##### Q:13 A student will not be allowed to sit in exam if his/her attendence is less than 75%.\n",
    "\n",
    "Take following input from user\n",
    "\n",
    "- Number of classes held\n",
    "\n",
    "- Number of classes attended.\n",
    "\n",
    "And print\n",
    "\n",
    "- percentage of class attended\n",
    "\n",
    "- Is student is allowed to sit in exam or not.\n"
   ]
  },
  {
   "cell_type": "markdown",
   "id": "3fa0c0f8-3ccd-41e1-ad19-09eabb478531",
   "metadata": {},
   "source": [
    "\n"
   ]
  },
  {
   "cell_type": "code",
   "execution_count": 2,
   "id": "3ea1fae3-078a-446f-9187-581adb93fd93",
   "metadata": {},
   "outputs": [
    {
     "name": "stdout",
     "output_type": "stream",
     "text": [
      "total classes held 16\n",
      "total classes attended 7\n"
     ]
    },
    {
     "name": "stdout",
     "output_type": "stream",
     "text": [
      "Percentage of classes u have attended is : 43.75\n",
      "Hence your pecentage is :43.75 \n",
      " you are not eligible to sit in the exam\n"
     ]
    }
   ],
   "source": [
    "classes_held = int(input(\"total classes held\"))\n",
    "classes_attended = int(input(\"total classes attended\"))\n",
    "pecentage= classes_attended/classes_held*(100)\n",
    "print(f\"Percentage of classes u have attended is : {pecentage}\")\n",
    "if pecentage < 75:\n",
    "    print(f\"Hence your pecentage is :{pecentage} \\n you are not eligible to sit in the exam\") \n",
    "else:\n",
    "    print(\"You are eligible\")\n"
   ]
  },
  {
   "cell_type": "markdown",
   "id": "4b81b2b6-7719-4783-bec0-529649c00edf",
   "metadata": {},
   "source": [
    "##### Q:14 ) Modify the above question to allow student to sit if he/she has medical cause. Ask user if he/she has medical cause or not ( 'Y' or 'N' ) and print accordingly."
   ]
  },
  {
   "cell_type": "code",
   "execution_count": 9,
   "id": "7c437eb0-48b2-40d2-90dc-ee5641af44ca",
   "metadata": {},
   "outputs": [
    {
     "name": "stdout",
     "output_type": "stream",
     "text": [
      "Total classes held:  23\n",
      "Total classes attended:  12\n",
      "Enter medical cause as Y or N:  y\n"
     ]
    },
    {
     "name": "stdout",
     "output_type": "stream",
     "text": [
      "Percentage of classes you have attended is: 52.17%\n",
      "You are not eligible to sit in the exam.\n"
     ]
    }
   ],
   "source": [
    "# Taking input for the number of classes held and attended, and the medical cause\n",
    "classes_held = int(input(\"Total classes held: \"))\n",
    "classes_attended = int(input(\"Total classes attended: \"))\n",
    "medical_cause = input(\"Enter medical cause as Y or N: \")\n",
    "\n",
    "# Calculate the percentage of classes attended\n",
    "percentage = (classes_attended / classes_held) * 100\n",
    "print(f\"Percentage of classes you have attended is: {percentage:.2f}%\")\n",
    "\n",
    "# Determine eligibility to sit in the exam\n",
    "if percentage < 75:\n",
    "    if medical_cause == 'Y':\n",
    "        print(\"You are allowed to sit in the exam due to medical cause.\")\n",
    "    else:\n",
    "        print(f\"You are not eligible to sit in the exam.\")\n",
    "else:\n",
    "    print(\"You are eligible to sit in the exam.\")\n"
   ]
  },
  {
   "cell_type": "markdown",
   "id": "54173ac3-c4ed-40be-8426-53a6321b1b4e",
   "metadata": {},
   "source": [
    "##### Q:15 Write a program to check if a year is leap year or not.\n",
    "\n",
    "If a year is divisible by 4 then it is leap year but if the year is century year like 2000, 1900, 2100 then it must be divisible by 400."
   ]
  },
  {
   "cell_type": "code",
   "execution_count": 12,
   "id": "64d8774d-941e-4304-b11b-81a117c062e8",
   "metadata": {},
   "outputs": [
    {
     "name": "stdout",
     "output_type": "stream",
     "text": [
      "Enter a year:  2024\n"
     ]
    },
    {
     "name": "stdout",
     "output_type": "stream",
     "text": [
      "2024 is a leap year.\n"
     ]
    }
   ],
   "source": [
    "\n",
    "year = int(input(\"Enter a year: \"))\n",
    "\n",
    "if (year % 4 == 0):\n",
    "    if (year % 100 == 0):\n",
    "        if (year % 400 == 0):\n",
    "            print(f\"{year} is a leap year.\")\n",
    "        else:\n",
    "            print(f\"{year} is not a leap year.\")\n",
    "    else:\n",
    "        print(f\"{year} is a leap year.\")\n",
    "else:\n",
    "    print(f\"{year} is not a leap year.\")\n"
   ]
  },
  {
   "cell_type": "markdown",
   "id": "40a5c902-519e-4a41-ae2d-4f3bc9d210c7",
   "metadata": {},
   "source": [
    "##### Q:16 Ask user to enter age, gender ( M or F ), marital status ( Y or N ) and then using following rules print their place of service.\n",
    "\n",
    "if employee is female, then she will work only in urban areas.\n",
    "\n",
    "if employee is a male and age is in between 20 to 40 then he may work in anywhere\n",
    "\n",
    "if employee is male and age is in between 40 t0 60 then he will work in urban areas only.\n",
    "\n",
    "And any other input of age should print \"ERROR\""
   ]
  },
  {
   "cell_type": "code",
   "execution_count": 13,
   "id": "0cab27c5-8171-42d9-ae33-99156cf98212",
   "metadata": {},
   "outputs": [
    {
     "name": "stdout",
     "output_type": "stream",
     "text": [
      "your age:  23\n",
      "your gender M or F:  m\n",
      "your marital status Y or N:  n\n"
     ]
    },
    {
     "name": "stdout",
     "output_type": "stream",
     "text": [
      "You may work anywhere.\n"
     ]
    }
   ],
   "source": [
    "\n",
    "age = int(input(\"your age: \"))\n",
    "gender = input(\"your gender M or F: \").upper()\n",
    "marital_status = input(\"your marital status Y or N: \").upper()\n",
    "# .upper() is function that converts needed format of alphabet..!\n",
    "if gender == 'F':\n",
    "    print(\"You will work only in urban areas.\")\n",
    "elif gender == 'M':\n",
    "    if 20 <= age <= 40:\n",
    "        print(\"You may work anywhere.\")\n",
    "    elif 40 < age <= 60:\n",
    "        print(\"You will work only in urban areas.\")\n",
    "    else:\n",
    "        print(\"ERROR\")\n",
    "else:\n",
    "    print(\"Invalid input for gender.\")\n"
   ]
  },
  {
   "cell_type": "code",
   "execution_count": null,
   "id": "05df9559-2e8f-4de4-85fa-7f145acbe491",
   "metadata": {},
   "outputs": [],
   "source": []
  }
 ],
 "metadata": {
  "kernelspec": {
   "display_name": "Python 3 (ipykernel)",
   "language": "python",
   "name": "python3"
  },
  "language_info": {
   "codemirror_mode": {
    "name": "ipython",
    "version": 3
   },
   "file_extension": ".py",
   "mimetype": "text/x-python",
   "name": "python",
   "nbconvert_exporter": "python",
   "pygments_lexer": "ipython3",
   "version": "3.11.7"
  }
 },
 "nbformat": 4,
 "nbformat_minor": 5
}
